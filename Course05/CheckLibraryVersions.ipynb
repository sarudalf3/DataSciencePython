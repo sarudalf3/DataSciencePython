{
 "cells": [
  {
   "cell_type": "code",
   "execution_count": 8,
   "metadata": {
    "scrolled": true
   },
   "outputs": [
    {
     "name": "stdout",
     "output_type": "stream",
     "text": [
      "Python version: 3.6.2 |Anaconda, Inc.| (default, Sep 30 2017, 11:52:29) [MSC v.1900 64 bit (AMD64)]\n",
      "pandas version: 0.20.3\n",
      "matplotlib version: 2.0.2\n",
      "NumPy version: 1.19.2\n",
      "SciPy version: 1.5.2\n",
      "IPython version: 7.16.1\n",
      "scikit-learn version: 0.23.2\n",
      "networkx version: 1.11\n",
      "gensim version: 3.8.0\n"
     ]
    }
   ],
   "source": [
    "###Check library versions\n",
    "import sys\n",
    "print(\"Python version: {}\".format(sys.version))\n",
    "import pandas as pd\n",
    "print(\"pandas version: {}\".format(pd.__version__))\n",
    "import matplotlib\n",
    "print(\"matplotlib version: {}\".format(matplotlib.__version__))\n",
    "import numpy as np\n",
    "print(\"NumPy version: {}\".format(np.__version__))\n",
    "import scipy as sp\n",
    "print(\"SciPy version: {}\".format(sp.__version__))\n",
    "import IPython\n",
    "print(\"IPython version: {}\".format(IPython.__version__))\n",
    "import sklearn\n",
    "print(\"scikit-learn version: {}\".format(sklearn.__version__))\n",
    "#!pip install seaborn\n",
    "#import seaborn\n",
    "#print(\"seaborn version: {}\".format(seaborn.__version__))\n",
    "#!pip install graphviz\n",
    "#import graphviz\n",
    "#print(\"graphviz version: {}\".format(graphviz.__version__))\n",
    "import networkx\n",
    "print(\"networkx version: {}\".format(networkx.__version__))\n",
    "import gensim\n",
    "print(\"gensim version: {}\".format(gensim.__version__))"
   ]
  },
  {
   "cell_type": "code",
   "execution_count": null,
   "metadata": {},
   "outputs": [],
   "source": []
  }
 ],
 "metadata": {
  "kernelspec": {
   "display_name": "Python 3",
   "language": "python",
   "name": "python3"
  },
  "language_info": {
   "codemirror_mode": {
    "name": "ipython",
    "version": 3
   },
   "file_extension": ".py",
   "mimetype": "text/x-python",
   "name": "python",
   "nbconvert_exporter": "python",
   "pygments_lexer": "ipython3",
   "version": "3.6.2"
  }
 },
 "nbformat": 4,
 "nbformat_minor": 4
}
