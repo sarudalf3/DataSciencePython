{
 "cells": [
  {
   "cell_type": "markdown",
   "metadata": {},
   "source": [
    "---\n",
    "\n",
    "_You are currently looking at **version 1.0** of this notebook. To download notebooks and datafiles, as well as get help on Jupyter notebooks in the Coursera platform, visit the [Jupyter Notebook FAQ](https://www.coursera.org/learn/python-machine-learning/resources/bANLa) course resource._\n",
    "\n",
    "---"
   ]
  },
  {
   "cell_type": "markdown",
   "metadata": {},
   "source": [
    "## Assignment 4 - Understanding and Predicting Property Maintenance Fines\n",
    "\n",
    "This assignment is based on a data challenge from the Michigan Data Science Team ([MDST](http://midas.umich.edu/mdst/)). \n",
    "\n",
    "The Michigan Data Science Team ([MDST](http://midas.umich.edu/mdst/)) and the Michigan Student Symposium for Interdisciplinary Statistical Sciences ([MSSISS](https://sites.lsa.umich.edu/mssiss/)) have partnered with the City of Detroit to help solve one of the most pressing problems facing Detroit - blight. [Blight violations](http://www.detroitmi.gov/How-Do-I/Report/Blight-Complaint-FAQs) are issued by the city to individuals who allow their properties to remain in a deteriorated condition. Every year, the city of Detroit issues millions of dollars in fines to residents and every year, many of these fines remain unpaid. Enforcing unpaid blight fines is a costly and tedious process, so the city wants to know: how can we increase blight ticket compliance?\n",
    "\n",
    "The first step in answering this question is understanding when and why a resident might fail to comply with a blight ticket. This is where predictive modeling comes in. For this assignment, your task is to predict whether a given blight ticket will be paid on time.\n",
    "\n",
    "All data for this assignment has been provided to us through the [Detroit Open Data Portal](https://data.detroitmi.gov/). **Only the data already included in your Coursera directory can be used for training the model for this assignment.** Nonetheless, we encourage you to look into data from other Detroit datasets to help inform feature creation and model selection. We recommend taking a look at the following related datasets:\n",
    "\n",
    "* [Building Permits](https://data.detroitmi.gov/Property-Parcels/Building-Permits/xw2a-a7tf)\n",
    "* [Trades Permits](https://data.detroitmi.gov/Property-Parcels/Trades-Permits/635b-dsgv)\n",
    "* [Improve Detroit: Submitted Issues](https://data.detroitmi.gov/Government/Improve-Detroit-Submitted-Issues/fwz3-w3yn)\n",
    "* [DPD: Citizen Complaints](https://data.detroitmi.gov/Public-Safety/DPD-Citizen-Complaints-2016/kahe-efs3)\n",
    "* [Parcel Map](https://data.detroitmi.gov/Property-Parcels/Parcel-Map/fxkw-udwf)\n",
    "\n",
    "___\n",
    "\n",
    "We provide you with two data files for use in training and validating your models: train.csv and test.csv. Each row in these two files corresponds to a single blight ticket, and includes information about when, why, and to whom each ticket was issued. The target variable is compliance, which is True if the ticket was paid early, on time, or within one month of the hearing data, False if the ticket was paid after the hearing date or not at all, and Null if the violator was found not responsible. Compliance, as well as a handful of other variables that will not be available at test-time, are only included in train.csv.\n",
    "\n",
    "Note: All tickets where the violators were found not responsible are not considered during evaluation. They are included in the training set as an additional source of data for visualization, and to enable unsupervised and semi-supervised approaches. However, they are not included in the test set.\n",
    "\n",
    "<br>\n",
    "\n",
    "**File descriptions** (Use only this data for training your model!)\n",
    "\n",
    "    train.csv - the training set (all tickets issued 2004-2011)\n",
    "    test.csv - the test set (all tickets issued 2012-2016)\n",
    "    addresses.csv & latlons.csv - mapping from ticket id to addresses, and from addresses to lat/lon coordinates. \n",
    "     Note: misspelled addresses may be incorrectly geolocated.\n",
    "\n",
    "<br>\n",
    "\n",
    "**Data fields**\n",
    "\n",
    "train.csv & test.csv\n",
    "\n",
    "    ticket_id - unique identifier for tickets\n",
    "    agency_name - Agency that issued the ticket\n",
    "    inspector_name - Name of inspector that issued the ticket\n",
    "    violator_name - Name of the person/organization that the ticket was issued to\n",
    "    violation_street_number, violation_street_name, violation_zip_code - Address where the violation occurred\n",
    "    mailing_address_str_number, mailing_address_str_name, city, state, zip_code, non_us_str_code, country - Mailing address of the violator\n",
    "    ticket_issued_date - Date and time the ticket was issued\n",
    "    hearing_date - Date and time the violator's hearing was scheduled\n",
    "    violation_code, violation_description - Type of violation\n",
    "    disposition - Judgment and judgement type\n",
    "    fine_amount - Violation fine amount, excluding fees\n",
    "    admin_fee - $20 fee assigned to responsible judgments\n",
    "state_fee - $10 fee assigned to responsible judgments\n",
    "    late_fee - 10% fee assigned to responsible judgments\n",
    "    discount_amount - discount applied, if any\n",
    "    clean_up_cost - DPW clean-up or graffiti removal cost\n",
    "    judgment_amount - Sum of all fines and fees\n",
    "    grafitti_status - Flag for graffiti violations\n",
    "    \n",
    "train.csv only\n",
    "\n",
    "    payment_amount - Amount paid, if any\n",
    "    payment_date - Date payment was made, if it was received\n",
    "    payment_status - Current payment status as of Feb 1 2017\n",
    "    balance_due - Fines and fees still owed\n",
    "    collection_status - Flag for payments in collections\n",
    "    compliance [target variable for prediction] \n",
    "     Null = Not responsible\n",
    "     0 = Responsible, non-compliant\n",
    "     1 = Responsible, compliant\n",
    "    compliance_detail - More information on why each ticket was marked compliant or non-compliant\n",
    "\n",
    "\n",
    "___\n",
    "\n",
    "## Evaluation\n",
    "\n",
    "Your predictions will be given as the probability that the corresponding blight ticket will be paid on time.\n",
    "\n",
    "The evaluation metric for this assignment is the Area Under the ROC Curve (AUC). \n",
    "\n",
    "Your grade will be based on the AUC score computed for your classifier. A model which with an AUROC of 0.7 passes this assignment, over 0.75 will recieve full points.\n",
    "___\n",
    "\n",
    "For this assignment, create a function that trains a model to predict blight ticket compliance in Detroit using `train.csv`. Using this model, return a series of length 61001 with the data being the probability that each corresponding ticket from `test.csv` will be paid, and the index being the ticket_id.\n",
    "\n",
    "Example:\n",
    "\n",
    "    ticket_id\n",
    "       284932    0.531842\n",
    "       285362    0.401958\n",
    "       285361    0.105928\n",
    "       285338    0.018572\n",
    "                 ...\n",
    "       376499    0.208567\n",
    "       376500    0.818759\n",
    "       369851    0.018528\n",
    "       Name: compliance, dtype: float32"
   ]
  },
  {
   "cell_type": "code",
   "execution_count": 2,
   "metadata": {},
   "outputs": [],
   "source": [
    "import pandas as pd\n",
    "import numpy as np"
   ]
  },
  {
   "cell_type": "code",
   "execution_count": 66,
   "metadata": {},
   "outputs": [],
   "source": [
    "#Insert lat and lon in address embbeded in adresses csv \n",
    "add = pd.read_csv('addresses.csv') \n",
    "lat = pd.read_csv('latlons.csv') \n",
    "geoRef = pd.merge(add,lat, how='left', on='address')\n",
    "geoRef.set_index(['ticket_id'], inplace=True)\n",
    "geoRef=geoRef[['lat','lon']]\n",
    "\n",
    "train = pd.read_csv('train.csv', sep=',', encoding='cp1252', low_memory=False,\n",
    "                    parse_dates = ['ticket_issued_date', 'hearing_date'], index_col='ticket_id')\n",
    "train = pd.merge(train, geoRef, how='left', on='ticket_id')\n",
    "\n",
    "test = pd.read_csv('test.csv', sep=',', encoding='cp1252', low_memory=False,\n",
    "                    parse_dates = ['ticket_issued_date', 'hearing_date'], index_col='ticket_id')\n",
    "test = pd.merge(test, geoRef, how='left', on='ticket_id')"
   ]
  },
  {
   "cell_type": "code",
   "execution_count": 67,
   "metadata": {},
   "outputs": [
    {
     "name": "stdout",
     "output_type": "stream",
     "text": [
      "0.0    148283\n",
      "NaN     90426\n",
      "1.0     11597\n",
      "Name: compliance, dtype: int64\n"
     ]
    }
   ],
   "source": [
    "print(train.compliance.value_counts(dropna=False))\n",
    "train = train.dropna(subset=['compliance'])"
   ]
  },
  {
   "cell_type": "code",
   "execution_count": 68,
   "metadata": {},
   "outputs": [
    {
     "name": "stdout",
     "output_type": "stream",
     "text": [
      "                                                count     sum      mean\n",
      "agency_name                                                            \n",
      "Buildings, Safety Engineering & Env Department  95863  5823.0  0.060743\n",
      "Department of Public Works                      52445  4718.0  0.089961\n",
      "Detroit Police Department                        4464   588.0  0.131720\n",
      "Health Department                                7107   468.0  0.065851\n",
      "Neighborhood City Halls                             1     0.0  0.000000\n"
     ]
    }
   ],
   "source": [
    "print(train.groupby('agency_name').compliance.agg(['count', 'sum','mean']))\n",
    "train = train[train['agency_name'] != 'Neighborhood City Halls']"
   ]
  },
  {
   "cell_type": "code",
   "execution_count": 69,
   "metadata": {
    "scrolled": true
   },
   "outputs": [
    {
     "name": "stdout",
     "output_type": "stream",
     "text": [
      "                   count     sum\n",
      "disposition                     \n",
      "By admission       13701  3768.0\n",
      "By default        138340  5285.0\n",
      "By determination    7643  2349.0\n",
      "Fine Waived          195   195.0\n",
      "                  count\n",
      "disposition            \n",
      "By admission       4484\n",
      "By default        51609\n",
      "By determination   4126\n",
      "Fine Waived         782\n"
     ]
    }
   ],
   "source": [
    "tr = train.disposition.unique().tolist()\n",
    "te = test.disposition.unique().tolist()\n",
    "set(tr+te)\n",
    "\n",
    "disposition_replace = {'Responsible by Default': 'By default',\n",
    "                       'Responsible by Determination': 'By determination',\n",
    "                       'Responsible (Fine Waived) by Admis': 'Fine Waived',\n",
    "                       'Responsible (Fine Waived) by Deter': 'Fine Waived',\n",
    "                       'Responsible - Compl/Adj by Default': 'By default',\n",
    "                       'Responsible - Compl/Adj by Determi': 'By determination',\n",
    "                       'Responsible by Admission': 'By admission',\n",
    "                       'Responsible by Dismissal': 'By default'}\n",
    "\n",
    "train.disposition.replace(disposition_replace, inplace=True)\n",
    "print(train.groupby('disposition').compliance.agg(['count', 'sum']))\n",
    "\n",
    "test.disposition.replace(disposition_replace, inplace=True)\n",
    "print(test.groupby('disposition').agency_name.agg(['count']))"
   ]
  },
  {
   "cell_type": "code",
   "execution_count": 98,
   "metadata": {},
   "outputs": [
    {
     "name": "stdout",
     "output_type": "stream",
     "text": [
      "                  count      sum      mean\n",
      "discount_amount                           \n",
      "0.0              158699  10474.0  0.065999\n",
      "3.0                  19     19.0  1.000000\n",
      "5.0                 167    159.0  0.952096\n",
      "10.0                155    141.0  0.909677\n",
      "13.0                  1      1.0  1.000000\n",
      "20.0                135    122.0  0.903704\n",
      "25.0                605    587.0  0.970248\n",
      "30.0                 17     17.0  1.000000\n",
      "40.0                  1      1.0  1.000000\n",
      "50.0                 43     40.0  0.930233\n",
      "100.0                16     16.0  1.000000\n",
      "250.0                 6      5.0  0.833333\n",
      "350.0                15     15.0  1.000000\n",
      "                 count\n",
      "discount_amount       \n",
      "0.0              60239\n",
      "3.0                  1\n",
      "5.0                228\n",
      "10.0               191\n",
      "13.0                 9\n",
      "20.0               146\n",
      "25.0                94\n",
      "30.0                 4\n",
      "40.0                 1\n",
      "50.0                59\n",
      "75.0                 4\n",
      "100.0               22\n",
      "150.0                2\n",
      "250.0                1\n"
     ]
    }
   ],
   "source": [
    "print(train.groupby('discount_amount').compliance.agg(['count', 'sum', 'mean']).sort_values('discount_amount'))\n",
    "print(test.groupby('discount_amount').agency_name.agg(['count']).sort_values('discount_amount'))\n",
    "train['discount'] = train.discount_amount.apply(lambda x:1 if x > 0 else 0)\n",
    "test['discount'] = test.discount_amount.apply(lambda x:1 if x > 0 else 0)"
   ]
  },
  {
   "cell_type": "code",
   "execution_count": 111,
   "metadata": {},
   "outputs": [
    {
     "name": "stdout",
     "output_type": "stream",
     "text": [
      "                 count     sum      mean\n",
      "judgment_level                          \n",
      "(-1.0, 100.0]    21990  2154.0  0.097954\n",
      "(100.0, 150.0]   15490  1814.0  0.117108\n",
      "(150.0, 300.0]   20690  3912.0  0.189077\n",
      "(300.0, inf]    101709  3717.0  0.036545\n",
      "                count\n",
      "judgment_level       \n",
      "(-1.0, 100.0]   18282\n",
      "(100.0, 150.0]   8395\n",
      "(150.0, 300.0]  10850\n",
      "(300.0, inf]    23474\n"
     ]
    }
   ],
   "source": [
    "train.groupby('judgment_amount').compliance.agg(['count', 'sum', 'mean', 'std']).sort_index(ascending=True)\n",
    "cut = [-1, 100, 150, 300, float(\"inf\")]\n",
    "\n",
    "train['judgment_level'] = pd.cut(train.judgment_amount, bins=cut)\n",
    "print(train.groupby('judgment_level').compliance.agg(['count', 'sum', 'mean']).sort_index(ascending=True))\n",
    "\n",
    "test['judgment_level'] = pd.cut(test.judgment_amount, bins=cut)\n",
    "print(test.groupby('judgment_level').agency_name.agg(['count']).sort_index(ascending=True))"
   ]
  },
  {
   "cell_type": "code",
   "execution_count": 117,
   "metadata": {},
   "outputs": [
    {
     "name": "stdout",
     "output_type": "stream",
     "text": [
      "            count      sum\n",
      "state_cat                 \n",
      "MI         143738  10603.0\n",
      "NOT MI      15952    973.0\n",
      "NOT US        189     21.0\n",
      "           count\n",
      "state_cat       \n",
      "MI         52197\n",
      "NOT MI      8494\n",
      "NOT US       310\n"
     ]
    }
   ],
   "source": [
    "a = train.groupby('state').compliance.agg(['count', 'sum']).sort_values('count', ascending=False)\n",
    "a['compl_rate'] = a['sum']/a['count']\n",
    "a['count_rate'] = a['count']/len(train)\n",
    "#print(a)\n",
    "\n",
    "states = ['AL','AK','AZ','AR','CA','CO','CT','DC','DE','FL','GA','HI','ID','IL','IN','IA','KS','KY','LA','ME',\n",
    "          'MD','MA','MI','MN','MS','MO','MT','NE','NV','NH','NJ','NM','NY','NC','ND','OH','OK','OR','PA','RI',\n",
    "          'SC','SD','TN','TX','UT','VT','VA','WA','WV','WI','WY']\n",
    "\n",
    "train['state_cat'] = train.state.apply(lambda x: x if x in states else 'NOT US')\n",
    "train.loc[(train.state_cat != 'NOT US') & (train.state_cat != 'MI'),'state_cat'] = 'NOT MI'\n",
    "train.loc[train.state.isna(),'state_cat'] = 'MI' #Missing values most Frequent\n",
    "print(train.groupby('state_cat').compliance.agg(['count', 'sum']).sort_values('count', ascending=False))\n",
    "\n",
    "test['state_cat'] = test.state.apply(lambda x: x if x in states else 'NOT US')\n",
    "test.loc[(test.state_cat != 'NOT US') & (test.state_cat != 'MI'),'state_cat'] = 'NOT MI'\n",
    "test.loc[test.state.isna(),'state_cat'] = 'MI' #Missing values most Frequent\n",
    "print(test.groupby('state_cat').agency_name.agg(['count']).sort_values('count', ascending=False))"
   ]
  },
  {
   "cell_type": "code",
   "execution_count": 150,
   "metadata": {},
   "outputs": [
    {
     "name": "stdout",
     "output_type": "stream",
     "text": [
      "                      count   sum      mean       std\n",
      "lon        lat                                       \n",
      "-83.238943 42.377249    387  13.0  0.033592  0.180409\n",
      "-83.262245 42.341729    355  42.0  0.118310  0.323431\n",
      "-83.262271 42.341730    329  48.0  0.145897  0.353540\n",
      "-83.046409 42.410855    264  12.0  0.045455  0.208695\n",
      "-83.252023 42.352331    248  12.0  0.048387  0.215017\n",
      "-83.277150 42.407284    233  15.0  0.064378  0.245953\n",
      "-83.256895 42.349328    116   6.0  0.051724  0.222430\n",
      "-83.136195 42.410644    107   5.0  0.046729  0.212051\n",
      "-83.255176 42.348420     86   2.0  0.023256  0.151599\n",
      "-83.257840 42.350713     86   4.0  0.046512  0.211825\n",
      "-83.284184 42.428686     75  10.0  0.133333  0.342224\n",
      "-83.045493 42.330486     52   0.0  0.000000  0.000000\n",
      "----locations replaced (train set)----\n",
      "-83.214569 42.370788\n",
      "                      count\n",
      "lon        lat             \n",
      "-83.262271 42.341730    260\n",
      "-83.262245 42.341729    225\n",
      "-83.277150 42.407284    153\n",
      "-83.252023 42.352331     58\n",
      "-83.238943 42.377249     55\n",
      "----locations replaced (test set)----\n",
      "-83.258526 42.364065\n"
     ]
    }
   ],
   "source": [
    "#lat and lon is filled with rhe average of 50 most frequencies locations\n",
    "mtrain = train.groupby(['lon','lat']).compliance.agg(['count', 'sum', 'mean', 'std']).sort_values('count',ascending=False)\n",
    "lon = mtrain[mtrain['count']>50].index.get_level_values(0).tolist()\n",
    "lat = mtrain[mtrain['count']>50].index.get_level_values(1).tolist()\n",
    "lon = round(sum(lon) / float(len(lon)),6)\n",
    "lat = round(sum(lat) / float(len(lat)),6)\n",
    "train.loc[train.lon.isna(),'lon'] = lon #fill in missing values\n",
    "train.loc[train.lat.isna(),'lat'] = lat #fill in missing values\n",
    "print(mtrain[mtrain['count']>50])\n",
    "print('----locations replaced (train set)----')\n",
    "print(lon,lat)\n",
    "\n",
    "mtest = test.groupby(['lon','lat']).agency_name.agg(['count']).sort_values('count',ascending=False)\n",
    "lon = mtest[mtest['count']>50].index.get_level_values(0).tolist()\n",
    "lat = mtest[mtest['count']>50].index.get_level_values(1).tolist()\n",
    "lon = round(sum(lon) / float(len(lon)),6)\n",
    "lat = round(sum(lat) / float(len(lat)),6)\n",
    "test.loc[test.lon.isna(),'lon'] = lon #fill in missing values\n",
    "test.loc[test.lat.isna(),'lat'] = lat #fill in missing values\n",
    "print(mtest[mtest['count']>50])\n",
    "print('----locations replaced (test set)----')\n",
    "print(lon,lat)\n",
    "\n"
   ]
  },
  {
   "cell_type": "code",
   "execution_count": 162,
   "metadata": {},
   "outputs": [
    {
     "name": "stdout",
     "output_type": "stream",
     "text": [
      "-----check missing data-----\n",
      "--train set--\n",
      "state_cat         0\n",
      "judgment_level    0\n",
      "discount          0\n",
      "disposition       0\n",
      "agency_name       0\n",
      "lat               0\n",
      "lon               0\n",
      "dtype: int64\n",
      "--test set--\n",
      "state_cat         0\n",
      "judgment_level    0\n",
      "discount          0\n",
      "disposition       0\n",
      "agency_name       0\n",
      "lat               0\n",
      "lon               0\n",
      "dtype: int64\n"
     ]
    }
   ],
   "source": [
    "#Variables to use in models\n",
    "ycol = ['compliance']\n",
    "xcol = ['state_cat','judgment_level','discount','disposition','agency_name','lat','lon']\n",
    "\n",
    "X = train[xcol]\n",
    "Xval = test[xcol]\n",
    "y = np.ravel(train[ycol].astype('int'))\n",
    "\n",
    "#check missing data\n",
    "print('-----check missing data-----')\n",
    "print('--train set--')\n",
    "print(X.isna().sum())\n",
    "print('--test set--')\n",
    "print(Xval.isna().sum())\n",
    "\n",
    "#dummy variables\n",
    "X = pd.get_dummies(X)\n",
    "Xval = pd.get_dummies(Xval)"
   ]
  },
  {
   "cell_type": "code",
   "execution_count": 157,
   "metadata": {},
   "outputs": [],
   "source": [
    "#Libraries to test data\n",
    "from sklearn.model_selection import train_test_split\n",
    "from sklearn.metrics import roc_auc_score\n",
    "\n",
    "from sklearn.dummy import DummyClassifier\n",
    "from sklearn.linear_model import LogisticRegression\n",
    "from sklearn.model_selection import GridSearchCV\n",
    "from sklearn.tree import DecisionTreeClassifier\n",
    "from sklearn.ensemble import RandomForestClassifier\n",
    "\n",
    "from sklearn.neural_network import MLPClassifier\n",
    "from sklearn.preprocessing import MinMaxScaler\n",
    "\n",
    "from sklearn.svm import SVC"
   ]
  },
  {
   "cell_type": "code",
   "execution_count": 163,
   "metadata": {},
   "outputs": [],
   "source": [
    "#split in two parameters\n",
    "Xtrain, Xtest, ytrain, ytest = train_test_split(X, y, stratify=y)"
   ]
  },
  {
   "cell_type": "code",
   "execution_count": 164,
   "metadata": {},
   "outputs": [
    {
     "name": "stdout",
     "output_type": "stream",
     "text": [
      "Train, test and AUCROC for dummy Classifier\n"
     ]
    },
    {
     "data": {
      "text/plain": [
       "(0.9274616584243051, 0.9274706029522142, 0.5, 0.5)"
      ]
     },
     "execution_count": 164,
     "metadata": {},
     "output_type": "execute_result"
    }
   ],
   "source": [
    "#dummy classifier\n",
    "dummy_clf = DummyClassifier(strategy = 'most_frequent').fit(Xtrain,ytrain)\n",
    "ytrpred = dummy_clf.predict(Xtrain)\n",
    "ytepred = dummy_clf.predict(Xtest)\n",
    "print('Train, test and AUCROC for dummy Classifier')\n",
    "dummy_clf.score(Xtrain,ytrain), dummy_clf.score(Xtest,ytest), roc_auc_score(ytrain, ytrpred), roc_auc_score(ytest, ytepred)"
   ]
  },
  {
   "cell_type": "code",
   "execution_count": 165,
   "metadata": {},
   "outputs": [
    {
     "name": "stdout",
     "output_type": "stream",
     "text": [
      "Train, test and AUCROC for logistic regression\n"
     ]
    },
    {
     "data": {
      "text/plain": [
       "(0.9366436214129048,\n",
       " 0.9369276957718289,\n",
       " 0.5671585736260306,\n",
       " 0.5682156218525467)"
      ]
     },
     "execution_count": 165,
     "metadata": {},
     "output_type": "execute_result"
    }
   ],
   "source": [
    "#Logistic regression\n",
    "m1 = LogisticRegression(max_iter = 10000).fit(Xtrain,ytrain)\n",
    "ytrpred = m1.predict(Xtrain)\n",
    "ytepred = m1.predict(Xtest)\n",
    "print('Train, test and AUCROC for logistic regression')\n",
    "m1.score(Xtrain,ytrain), m1.score(Xtest,ytest), roc_auc_score(ytrain, ytrpred), roc_auc_score(ytest, ytepred)"
   ]
  },
  {
   "cell_type": "code",
   "execution_count": 167,
   "metadata": {},
   "outputs": [
    {
     "name": "stdout",
     "output_type": "stream",
     "text": [
      "Grid best parameter:  {'max_depth': 10, 'max_features': 5}\n",
      "Train, test and AUCROC for Decision tree\n"
     ]
    },
    {
     "data": {
      "text/plain": [
       "(0.7990625220178151,\n",
       " 0.7858226081536629,\n",
       " 0.5802791668078394,\n",
       " 0.5745856689291738)"
      ]
     },
     "execution_count": 167,
     "metadata": {},
     "output_type": "execute_result"
    }
   ],
   "source": [
    "#decision trees\n",
    "grid_values = {'max_features': [1,2,3,4,5], 'max_depth': [4,6,8,10,15]} \n",
    "dtc = DecisionTreeClassifier()\n",
    "grid_dtc = GridSearchCV(dtc, param_grid = grid_values, scoring='roc_auc')\n",
    "grid_dtc.fit(Xtrain, ytrain)\n",
    "print('Grid best parameter: ', grid_dtc.best_params_)\n",
    "ytrpred = grid_dtc.predict(Xtrain)\n",
    "ytepred = grid_dtc.predict(Xtest)\n",
    "print('Train, test and AUCROC for Decision tree')\n",
    "grid_dtc.score(Xtrain,ytrain), grid_dtc.score(Xtest,ytest), roc_auc_score(ytrain, ytrpred), roc_auc_score(ytest, ytepred)"
   ]
  },
  {
   "cell_type": "code",
   "execution_count": 168,
   "metadata": {},
   "outputs": [
    {
     "name": "stdout",
     "output_type": "stream",
     "text": [
      "Grid best parameter:  {'max_depth': 15, 'max_features': 10, 'n_estimators': 25}\n",
      "Train, test and AUCROC for random forests\n"
     ]
    },
    {
     "data": {
      "text/plain": [
       "(0.9014534291340515,\n",
       " 0.8102327885232656,\n",
       " 0.6386207731762368,\n",
       " 0.6007063499314763)"
      ]
     },
     "execution_count": 168,
     "metadata": {},
     "output_type": "execute_result"
    }
   ],
   "source": [
    "#random forests\n",
    "#n_estimators, number of bootstrap samples\n",
    "#max_depth, maximum depth of the tree\n",
    "model = RandomForestClassifier(n_jobs=2, random_state=0)\n",
    "grid_values = {'n_estimators':[5,10,20,25], 'max_depth':[5,8,10,15], 'max_features':[5,8,9,10]}\n",
    "grid_model = GridSearchCV(model, param_grid=grid_values, scoring=\"roc_auc\")\n",
    "grid_model.fit(Xtrain, ytrain)\n",
    "print('Grid best parameter: ', grid_model.best_params_)\n",
    "ytrpred = grid_model.predict(Xtrain)\n",
    "ytepred = grid_model.predict(Xtest)\n",
    "print('Train, test and AUCROC for random forests')\n",
    "grid_model.score(Xtrain,ytrain), grid_model.score(Xtest,ytest), roc_auc_score(ytrain, ytrpred), roc_auc_score(ytest, ytepred)"
   ]
  },
  {
   "cell_type": "code",
   "execution_count": 170,
   "metadata": {},
   "outputs": [
    {
     "name": "stdout",
     "output_type": "stream",
     "text": [
      "Grid best parameter:  {'activation': 'relu', 'alpha': 0.01}\n",
      "Train, test and AUCROC for neural networks\n"
     ]
    },
    {
     "data": {
      "text/plain": [
       "(0.7915552855669578, 0.792140477309937, 0.5804773140930667, 0.5794688709225632)"
      ]
     },
     "execution_count": 170,
     "metadata": {},
     "output_type": "execute_result"
    }
   ],
   "source": [
    "#neural network\n",
    "scaler = MinMaxScaler()\n",
    "Xtrain_scaled = scaler.fit_transform(Xtrain)\n",
    "Xtest_scaled = scaler.transform(Xtest)\n",
    "\n",
    "nn = MLPClassifier(hidden_layer_sizes = [50], random_state = 0, solver='lbfgs', max_iter=10000)\n",
    "grid_values = {'activation':['relu'], 'alpha':[0.01,1]}\n",
    "grid_nn = GridSearchCV(nn, param_grid=grid_values, scoring=\"roc_auc\")\n",
    "grid_nn.fit(Xtrain_scaled, ytrain)\n",
    "print('Grid best parameter: ', grid_nn.best_params_)\n",
    "ytrpred = grid_nn.predict(Xtrain_scaled)\n",
    "ytepred = grid_nn.predict(Xtest_scaled)\n",
    "print('Train, test and AUCROC for neural networks')\n",
    "grid_nn.score(Xtrain_scaled,ytrain), grid_nn.score(Xtest_scaled,ytest), roc_auc_score(ytrain, ytrpred), roc_auc_score(ytest, ytepred)"
   ]
  },
  {
   "cell_type": "code",
   "execution_count": 172,
   "metadata": {},
   "outputs": [
    {
     "name": "stdout",
     "output_type": "stream",
     "text": [
      "Grid best parameter:  {'max_depth': 15, 'max_features': 10, 'n_estimators': 25}\n",
      "Grid best score (AUC):  0.808293342446263\n",
      "Train, test and AUCROC for random forests\n"
     ]
    },
    {
     "data": {
      "text/plain": [
       "(0.900754172734513, 0.8094909687719776, 0.900754172734513, 0.8094909687719776)"
      ]
     },
     "execution_count": 172,
     "metadata": {},
     "output_type": "execute_result"
    }
   ],
   "source": [
    "from sklearn.ensemble import RandomForestRegressor\n",
    "    \n",
    "model = RandomForestRegressor(n_jobs=2, random_state=0)\n",
    "grid_values = {'n_estimators':[5,10,20,25], 'max_depth':[5,8,10,15], 'max_features':[5,8,9,10]}\n",
    "grid_res = GridSearchCV(model, param_grid=grid_values, scoring=\"roc_auc\")\n",
    "grid_res.fit(Xtrain, ytrain)\n",
    "print('Grid best parameter: ', grid_res.best_params_)\n",
    "print('Grid best score (AUC): ', grid_res.best_score_)\n",
    "ytrpred = grid_res.predict(Xtrain)\n",
    "ytepred = grid_res.predict(Xtest)\n",
    "print('Train, test and AUCROC for random forests')\n",
    "grid_res.score(Xtrain,ytrain), grid_res.score(Xtest,ytest), roc_auc_score(ytrain, ytrpred), roc_auc_score(ytest, ytepred)"
   ]
  },
  {
   "cell_type": "code",
   "execution_count": 6,
   "metadata": {},
   "outputs": [],
   "source": [
    "#impossible to compute, takes a long time.\n",
    "\n",
    "#grid_values = {'C': [0.1, 1], 'gamma': [0.1, 1.0]}, 'class_weight':[{1:10},{1:20},{1:50}]}\n",
    "#scaler = StandardScaler()\n",
    "#Xtrain_scaled = scaler.fit_transform(Xtrain)\n",
    "#Xtest_scaled = scaler.transform(Xtest)\n",
    "\n",
    "#svm = SVC(kernel='rbf', random_state =0)\n",
    "#grid_svm_acc = GridSearchCV(svm, param_grid = grid_values, scoring = 'roc_auc')\n",
    "#grid_svm_acc.fit(Xtrain_scaled, ytrain)\n",
    "#y_decision_fn_scores_acc = grid_svm_acc.decision_function(Xtest_scaled) \n",
    "\n",
    "#print('Grid best parameter (max. accuracy): ', grid_svm_acc.best_params_)\n",
    "#print('Grid best score (accuracy): ', grid_svm_acc.best_score_)\n",
    "\n",
    "##Best SVM model \n",
    "##svm = SVC(random_state =0).fit(Xtrain_scaled,ytrain)\n",
    "##ypred = svm.predict(Xtest_scaled)\n",
    "##svm.score(Xtest_scaled,ytest), svm.score(Xtrain_scaled,ytrain), roc_auc_score(ytest, ypred)"
   ]
  },
  {
   "cell_type": "code",
   "execution_count": null,
   "metadata": {},
   "outputs": [],
   "source": [
    "import pandas as pd\n",
    "import numpy as np\n",
    "\n",
    "def blight_model():\n",
    "    \n",
    "    # Your code here\n",
    "    \n",
    "    return # Your answer here"
   ]
  }
 ],
 "metadata": {
  "coursera": {
   "course_slug": "python-machine-learning",
   "graded_item_id": "nNS8l",
   "launcher_item_id": "yWWk7",
   "part_id": "w8BSS"
  },
  "kernelspec": {
   "display_name": "Python 3",
   "language": "python",
   "name": "python3"
  },
  "language_info": {
   "codemirror_mode": {
    "name": "ipython",
    "version": 3
   },
   "file_extension": ".py",
   "mimetype": "text/x-python",
   "name": "python",
   "nbconvert_exporter": "python",
   "pygments_lexer": "ipython3",
   "version": "3.6.2"
  }
 },
 "nbformat": 4,
 "nbformat_minor": 2
}
