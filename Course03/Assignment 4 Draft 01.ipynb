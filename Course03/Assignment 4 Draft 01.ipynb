{
 "cells": [
  {
   "cell_type": "markdown",
   "metadata": {},
   "source": [
    "---\n",
    "\n",
    "_You are currently looking at **version 1.0** of this notebook. To download notebooks and datafiles, as well as get help on Jupyter notebooks in the Coursera platform, visit the [Jupyter Notebook FAQ](https://www.coursera.org/learn/python-machine-learning/resources/bANLa) course resource._\n",
    "\n",
    "---"
   ]
  },
  {
   "cell_type": "markdown",
   "metadata": {},
   "source": [
    "## Assignment 4 - Understanding and Predicting Property Maintenance Fines\n",
    "\n",
    "This assignment is based on a data challenge from the Michigan Data Science Team ([MDST](http://midas.umich.edu/mdst/)). \n",
    "\n",
    "The Michigan Data Science Team ([MDST](http://midas.umich.edu/mdst/)) and the Michigan Student Symposium for Interdisciplinary Statistical Sciences ([MSSISS](https://sites.lsa.umich.edu/mssiss/)) have partnered with the City of Detroit to help solve one of the most pressing problems facing Detroit - blight. [Blight violations](http://www.detroitmi.gov/How-Do-I/Report/Blight-Complaint-FAQs) are issued by the city to individuals who allow their properties to remain in a deteriorated condition. Every year, the city of Detroit issues millions of dollars in fines to residents and every year, many of these fines remain unpaid. Enforcing unpaid blight fines is a costly and tedious process, so the city wants to know: how can we increase blight ticket compliance?\n",
    "\n",
    "The first step in answering this question is understanding when and why a resident might fail to comply with a blight ticket. This is where predictive modeling comes in. For this assignment, your task is to predict whether a given blight ticket will be paid on time.\n",
    "\n",
    "All data for this assignment has been provided to us through the [Detroit Open Data Portal](https://data.detroitmi.gov/). **Only the data already included in your Coursera directory can be used for training the model for this assignment.** Nonetheless, we encourage you to look into data from other Detroit datasets to help inform feature creation and model selection. We recommend taking a look at the following related datasets:\n",
    "\n",
    "* [Building Permits](https://data.detroitmi.gov/Property-Parcels/Building-Permits/xw2a-a7tf)\n",
    "* [Trades Permits](https://data.detroitmi.gov/Property-Parcels/Trades-Permits/635b-dsgv)\n",
    "* [Improve Detroit: Submitted Issues](https://data.detroitmi.gov/Government/Improve-Detroit-Submitted-Issues/fwz3-w3yn)\n",
    "* [DPD: Citizen Complaints](https://data.detroitmi.gov/Public-Safety/DPD-Citizen-Complaints-2016/kahe-efs3)\n",
    "* [Parcel Map](https://data.detroitmi.gov/Property-Parcels/Parcel-Map/fxkw-udwf)\n",
    "\n",
    "___\n",
    "\n",
    "We provide you with two data files for use in training and validating your models: train.csv and test.csv. Each row in these two files corresponds to a single blight ticket, and includes information about when, why, and to whom each ticket was issued. The target variable is compliance, which is True if the ticket was paid early, on time, or within one month of the hearing data, False if the ticket was paid after the hearing date or not at all, and Null if the violator was found not responsible. Compliance, as well as a handful of other variables that will not be available at test-time, are only included in train.csv.\n",
    "\n",
    "Note: All tickets where the violators were found not responsible are not considered during evaluation. They are included in the training set as an additional source of data for visualization, and to enable unsupervised and semi-supervised approaches. However, they are not included in the test set.\n",
    "\n",
    "<br>\n",
    "\n",
    "**File descriptions** (Use only this data for training your model!)\n",
    "\n",
    "    train.csv - the training set (all tickets issued 2004-2011)\n",
    "    test.csv - the test set (all tickets issued 2012-2016)\n",
    "    addresses.csv & latlons.csv - mapping from ticket id to addresses, and from addresses to lat/lon coordinates. \n",
    "     Note: misspelled addresses may be incorrectly geolocated.\n",
    "\n",
    "<br>\n",
    "\n",
    "**Data fields**\n",
    "\n",
    "train.csv & test.csv\n",
    "\n",
    "    ticket_id - unique identifier for tickets\n",
    "    agency_name - Agency that issued the ticket\n",
    "    inspector_name - Name of inspector that issued the ticket\n",
    "    violator_name - Name of the person/organization that the ticket was issued to\n",
    "    violation_street_number, violation_street_name, violation_zip_code - Address where the violation occurred\n",
    "    mailing_address_str_number, mailing_address_str_name, city, state, zip_code, non_us_str_code, country - Mailing address of the violator\n",
    "    ticket_issued_date - Date and time the ticket was issued\n",
    "    hearing_date - Date and time the violator's hearing was scheduled\n",
    "    violation_code, violation_description - Type of violation\n",
    "    disposition - Judgment and judgement type\n",
    "    fine_amount - Violation fine amount, excluding fees\n",
    "    admin_fee - $20 fee assigned to responsible judgments\n",
    "state_fee - $10 fee assigned to responsible judgments\n",
    "    late_fee - 10% fee assigned to responsible judgments\n",
    "    discount_amount - discount applied, if any\n",
    "    clean_up_cost - DPW clean-up or graffiti removal cost\n",
    "    judgment_amount - Sum of all fines and fees\n",
    "    grafitti_status - Flag for graffiti violations\n",
    "    \n",
    "train.csv only\n",
    "\n",
    "    payment_amount - Amount paid, if any\n",
    "    payment_date - Date payment was made, if it was received\n",
    "    payment_status - Current payment status as of Feb 1 2017\n",
    "    balance_due - Fines and fees still owed\n",
    "    collection_status - Flag for payments in collections\n",
    "    compliance [target variable for prediction] \n",
    "     Null = Not responsible\n",
    "     0 = Responsible, non-compliant\n",
    "     1 = Responsible, compliant\n",
    "    compliance_detail - More information on why each ticket was marked compliant or non-compliant\n",
    "\n",
    "\n",
    "___\n",
    "\n",
    "## Evaluation\n",
    "\n",
    "Your predictions will be given as the probability that the corresponding blight ticket will be paid on time.\n",
    "\n",
    "The evaluation metric for this assignment is the Area Under the ROC Curve (AUC). \n",
    "\n",
    "Your grade will be based on the AUC score computed for your classifier. A model which with an AUROC of 0.7 passes this assignment, over 0.75 will recieve full points.\n",
    "___\n",
    "\n",
    "For this assignment, create a function that trains a model to predict blight ticket compliance in Detroit using `train.csv`. Using this model, return a series of length 61001 with the data being the probability that each corresponding ticket from `test.csv` will be paid, and the index being the ticket_id.\n",
    "\n",
    "Example:\n",
    "\n",
    "    ticket_id\n",
    "       284932    0.531842\n",
    "       285362    0.401958\n",
    "       285361    0.105928\n",
    "       285338    0.018572\n",
    "                 ...\n",
    "       376499    0.208567\n",
    "       376500    0.818759\n",
    "       369851    0.018528\n",
    "       Name: compliance, dtype: float32"
   ]
  },
  {
   "cell_type": "code",
   "execution_count": 287,
   "metadata": {},
   "outputs": [
    {
     "ename": "ImportError",
     "evalue": "cannot import name 'Imputer' from 'sklearn.preprocessing' (C:\\ProgramData\\Anaconda3\\lib\\site-packages\\sklearn\\preprocessing\\__init__.py)",
     "output_type": "error",
     "traceback": [
      "\u001b[1;31m---------------------------------------------------------------------------\u001b[0m",
      "\u001b[1;31mImportError\u001b[0m                               Traceback (most recent call last)",
      "\u001b[1;32m<ipython-input-287-d98cf4202186>\u001b[0m in \u001b[0;36m<module>\u001b[1;34m\u001b[0m\n\u001b[0;32m      1\u001b[0m \u001b[1;32mimport\u001b[0m \u001b[0mpandas\u001b[0m \u001b[1;32mas\u001b[0m \u001b[0mpd\u001b[0m\u001b[1;33m\u001b[0m\u001b[1;33m\u001b[0m\u001b[0m\n\u001b[0;32m      2\u001b[0m \u001b[1;32mimport\u001b[0m \u001b[0mnumpy\u001b[0m \u001b[1;32mas\u001b[0m \u001b[0mnp\u001b[0m\u001b[1;33m\u001b[0m\u001b[1;33m\u001b[0m\u001b[0m\n\u001b[1;32m----> 3\u001b[1;33m \u001b[1;32mfrom\u001b[0m \u001b[0msklearn\u001b[0m\u001b[1;33m.\u001b[0m\u001b[0mpreprocessing\u001b[0m \u001b[1;32mimport\u001b[0m \u001b[0mImputer\u001b[0m\u001b[1;33m\u001b[0m\u001b[1;33m\u001b[0m\u001b[0m\n\u001b[0m",
      "\u001b[1;31mImportError\u001b[0m: cannot import name 'Imputer' from 'sklearn.preprocessing' (C:\\ProgramData\\Anaconda3\\lib\\site-packages\\sklearn\\preprocessing\\__init__.py)"
     ]
    }
   ],
   "source": [
    "import pandas as pd\n",
    "import numpy as np\n",
    "from sklearn.preprocessing import Imputer"
   ]
  },
  {
   "cell_type": "code",
   "execution_count": 224,
   "metadata": {},
   "outputs": [],
   "source": [
    "#Insert lat and lon in address embbeded in adresses csv \n",
    "add = pd.read_csv('addresses.csv') \n",
    "lat = pd.read_csv('latlons.csv') \n",
    "geoRef = pd.merge(add,lat, how='left', on='address')\n",
    "geoRef.set_index(['ticket_id'], inplace=True)\n",
    "geoRef=geoRef[['lat','lon']]\n",
    "\n",
    "train = pd.read_csv('train.csv', sep=',', encoding='cp1252', low_memory=False,\n",
    "                    parse_dates = ['ticket_issued_date', 'hearing_date'], index_col='ticket_id')\n",
    "train = pd.merge(train, geoRef, how='left', on='ticket_id')\n",
    "\n",
    "test = pd.read_csv('test.csv', sep=',', encoding='cp1252', low_memory=False,\n",
    "                    parse_dates = ['ticket_issued_date', 'hearing_date'], index_col='ticket_id')\n",
    "test = pd.merge(test, geoRef, how='left', on='ticket_id')"
   ]
  },
  {
   "cell_type": "code",
   "execution_count": 225,
   "metadata": {},
   "outputs": [
    {
     "name": "stdout",
     "output_type": "stream",
     "text": [
      "null values in train set\n",
      "agency_name            0\n",
      "state                 93\n",
      "violation_code         0\n",
      "disposition            0\n",
      "fine_amount            1\n",
      "admin_fee              0\n",
      "state_fee              0\n",
      "late_fee               0\n",
      "discount_amount        0\n",
      "clean_up_cost          0\n",
      "judgment_amount        0\n",
      "compliance         90426\n",
      "lat                    3\n",
      "lon                    3\n",
      "dtype: int64\n",
      "-----\n",
      "null values in test set\n",
      "agency_name          0\n",
      "state              331\n",
      "violation_code       0\n",
      "disposition          0\n",
      "fine_amount          0\n",
      "admin_fee            0\n",
      "state_fee            0\n",
      "late_fee             0\n",
      "discount_amount      0\n",
      "clean_up_cost        0\n",
      "judgment_amount      0\n",
      "lat                  5\n",
      "lon                  5\n",
      "dtype: int64\n"
     ]
    }
   ],
   "source": [
    "#delete columns in both fields\n",
    "train_remove = ['payment_amount','payment_date','payment_status','balance_due','collection_status','compliance_detail']\n",
    "train.drop(train_remove, axis=1, inplace=True)\n",
    "\n",
    "all_remove = ['inspector_name', 'violator_name', 'violation_street_number', 'violation_street_name', 'violation_zip_code',\n",
    "              'mailing_address_str_number','mailing_address_str_name', 'city', 'zip_code', 'non_us_str_code', 'country', \n",
    "              'violation_description', 'grafitti_status', 'ticket_issued_date', 'hearing_date']\n",
    "\n",
    "train.drop(all_remove, axis=1, inplace=True)\n",
    "test.drop(all_remove, axis=1, inplace=True)\n",
    "\n",
    "print('null values in train set\\n{}'.format(train.isnull().sum()))\n",
    "print('-----\\nnull values in test set\\n{}'.format(test.isnull().sum()))"
   ]
  },
  {
   "cell_type": "code",
   "execution_count": 226,
   "metadata": {},
   "outputs": [
    {
     "name": "stdout",
     "output_type": "stream",
     "text": [
      "agency_name categories\n",
      "-------------\n",
      "test categories is a subset of train categories:True\n",
      "\n",
      "Buildings, Safety Engineering & Env Department    157784\n",
      "Department of Public Works                         74717\n",
      "Health Department                                   8903\n",
      "Detroit Police Department                           8900\n",
      "Neighborhood City Halls                                2\n",
      "Name: agency_name, dtype: int64\n",
      "\n",
      "state categories\n",
      "-------------\n",
      "test categories is a subset of train categories:True\n",
      "\n",
      "Not US states train set\n",
      "NB    77\n",
      "UK    77\n",
      "ON    51\n",
      "BC    17\n",
      "VI     6\n",
      "QC     5\n",
      "PR     5\n",
      "QL     3\n",
      "BL     2\n",
      "Name: state, dtype: int64\n",
      "\n",
      "Not US states test set\n",
      "UK    142\n",
      "ON     53\n",
      "BC     52\n",
      "NB     24\n",
      "VI     23\n",
      "QC     11\n",
      "PR      4\n",
      "QL      1\n",
      "Name: state, dtype: int64\n",
      "\n",
      "violation_code\n",
      "-------------\n",
      "test categories is a subset of train categories:False\n",
      "Other strategy: Most common frequencies (30)\n",
      "-------------\n",
      "The codes represented is equal to 98.02% of total violated codes in train set\n",
      "The codes represented is equal to 94.01% of total violated codes in test set\n",
      "\n",
      "The 5 unlabeled categories with more frequencies in test set\n",
      "9-1-113       1379\n",
      "9-1-50(a)      319\n",
      "22-2-83(c)     289\n",
      "22-2-49(a)     188\n",
      "22-2-22(a)     143\n",
      "Name: violation_code, dtype: int64\n"
     ]
    }
   ],
   "source": [
    "#categorical features\n",
    "#agency_name, state, violation_code\n",
    "print('agency_name categories\\n-------------')\n",
    "tr = set(train.agency_name.unique())\n",
    "te = set(test.agency_name.unique())\n",
    "is_subset = te.issubset(tr)\n",
    "print('test categories is a subset of train categories:{}'.format(is_subset))\n",
    "print('')\n",
    "print(train.agency_name.value_counts())\n",
    "print('')\n",
    "print('state categories\\n-------------')\n",
    "tr = set(train.state.unique())\n",
    "te = set(test.state.unique())\n",
    "is_subset = te.issubset(tr)\n",
    "print('test categories is a subset of train categories:{}'.format(is_subset))\n",
    "print('')\n",
    "states = [\"AL\", \"AK\", \"AZ\", \"AR\", \"CA\", \"CO\", \"CT\", \"DC\", \"DE\", \"FL\", \"GA\", \"HI\", \"ID\", \"IL\", \"IN\", \"IA\", \"KS\", \"KY\", \"LA\", \n",
    "          \"ME\", \"MD\", \"MA\", \"MI\", \"MN\", \"MS\", \"MO\", \"MT\", \"NE\", \"NV\", \"NH\", \"NJ\", \"NM\", \"NY\", \"NC\", \"ND\", \"OH\", \"OK\", \"OR\", \n",
    "          \"PA\", \"RI\", \"SC\", \"SD\", \"TN\", \"TX\", \"UT\", \"VT\", \"VA\", \"WA\", \"WV\", \"WI\", \"WY\"]\n",
    "print('Not US states train set')\n",
    "print(train[~train['state'].isin(states)]['state'].value_counts())\n",
    "print('')\n",
    "print('Not US states test set')\n",
    "print(test[~test['state'].isin(states)]['state'].value_counts())\n",
    "print('')\n",
    "print('violation_code\\n-------------')\n",
    "tr = set(train.violation_code.unique())\n",
    "te = set(test.violation_code.unique())\n",
    "is_subset = te.issubset(tr)\n",
    "print('test categories is a subset of train categories:{}'.format(is_subset))\n",
    "print('Other strategy: Most common frequencies (30)\\n-------------')\n",
    "#check the percentage in train data\n",
    "cat = 30 \n",
    "vio_code_freq = train.violation_code.value_counts()\n",
    "perc_train = vio_code_freq.values[:cat].sum() / vio_code_freq.values.sum() * 100\n",
    "print('The codes represented is equal to {:.4g}% of total violated codes in train set'.format(perc_train))\n",
    "vio_code = vio_code_freq.index[:cat]\n",
    "#check the percentage in test data\n",
    "vio_code_test = test.violation_code.value_counts()\n",
    "perc_test = vio_code_test[vio_code_test.index.isin(vio_code)].sum() / vio_code_test.values.sum() * 100\n",
    "print('The codes represented is equal to {:.4g}% of total violated codes in test set'.format(perc_test))\n",
    "#categories unlabeled\n",
    "print('\\nThe 5 unlabeled categories with more frequencies in test set')\n",
    "print(vio_code_test[~vio_code_test.index.isin(vio_code)][:5])#.index[:7])\n",
    "train['violation_code_cat'] = [c if c in vio_code else 'other' for c in train.violation_code]\n",
    "test['violation_code_cat'] = [c if c in vio_code else 'other' for c in test.violation_code]"
   ]
  },
  {
   "cell_type": "code",
   "execution_count": 227,
   "metadata": {},
   "outputs": [
    {
     "name": "stdout",
     "output_type": "stream",
     "text": [
      "disposition categories\n",
      "-------------\n",
      "test categories is a subset of train categories:False\n",
      "\n",
      "Check the categories in train set\n",
      "Responsible by Default                138340\n",
      "Not responsible by Dismissal           48695\n",
      "Not responsible by City Dismissal      34401\n",
      "Responsible by Admission               13701\n",
      "Responsible by Determination            7644\n",
      "Not responsible by Determination        6639\n",
      "PENDING JUDGMENT                         387\n",
      "SET-ASIDE (PENDING JUDGMENT)             304\n",
      "Responsible (Fine Waived) by Deter       195\n",
      "Name: disposition, dtype: int64\n",
      "\n",
      "Check the categories in test set\n",
      "Responsible by Default                51602\n",
      "Responsible by Admission               4484\n",
      "Responsible by Determination           4124\n",
      "Responsible (Fine Waived) by Deter      781\n",
      "Responsible - Compl/Adj by Default        6\n",
      "Responsible - Compl/Adj by Determi        2\n",
      "Responsible by Dismissal                  1\n",
      "Responsible (Fine Waived) by Admis        1\n",
      "Name: disposition, dtype: int64\n",
      "\n",
      "check the cases when judgment_amount is different to sum of fine_amount + admin_fee + state_fee + late_fee + clean_up_cost\n",
      "case is 0 when the amount is different and 1 when is almost equal\n",
      "---------------Train set---------------\n",
      "1    159685\n",
      "0     90621\n",
      "Name: case, dtype: int64\n",
      "\n",
      "case  disposition                       \n",
      "0     Not responsible by City Dismissal      34401\n",
      "      Not responsible by Determination        6639\n",
      "      Not responsible by Dismissal           48695\n",
      "      PENDING JUDGMENT                         387\n",
      "      Responsible (Fine Waived) by Deter       195\n",
      "      SET-ASIDE (PENDING JUDGMENT)             304\n",
      "1     Responsible by Admission               13701\n",
      "      Responsible by Default                138340\n",
      "      Responsible by Determination            7644\n",
      "Name: violation_code, dtype: int64\n",
      "---------------Test set---------------\n",
      "1    60211\n",
      "0      790\n",
      "Name: case, dtype: int64\n",
      "\n",
      "case  disposition                       \n",
      "0     Responsible (Fine Waived) by Admis        1\n",
      "      Responsible (Fine Waived) by Deter      781\n",
      "      Responsible - Compl/Adj by Default        6\n",
      "      Responsible - Compl/Adj by Determi        2\n",
      "1     Responsible by Admission               4484\n",
      "      Responsible by Default                51602\n",
      "      Responsible by Determination           4124\n",
      "      Responsible by Dismissal                  1\n",
      "Name: violation_code, dtype: int64\n",
      "\n",
      "number of cases when case != judgment_amount and judgment_amount != 0\n",
      "------------Train case------------\n",
      "0\n",
      "number of cases when case != judgment_amount and judgment_amount != 0\n",
      "------------Test case------------\n",
      "0\n",
      "\n",
      "I drop judgemet amount, Total_amount, and features\n"
     ]
    }
   ],
   "source": [
    "#disposition and numeric features\n",
    "#disposition\n",
    "print('disposition categories\\n-------------')\n",
    "tr = set(train.disposition.unique())\n",
    "te = set(test.disposition.unique())\n",
    "is_subset = te.issubset(tr)\n",
    "print('test categories is a subset of train categories:{}'.format(is_subset))\n",
    "print('')\n",
    "print('Check the categories in train set')\n",
    "print(train.disposition.value_counts())\n",
    "print('')\n",
    "print('Check the categories in test set')\n",
    "print(test.disposition.value_counts())\n",
    "print('')\n",
    "#judgment_amount is equal to fine_amount + admin_fee + state_fee + late_fee + clean_up_cost\n",
    "train['Total_amount'] = train['fine_amount']+ train['admin_fee']+train['state_fee']+train['late_fee']+train['clean_up_cost']\n",
    "test['Total_amount'] = test['fine_amount']+ test['admin_fee']+test['state_fee']+test['late_fee']+test['clean_up_cost']\n",
    "#amount is equal or the difference is most 1\n",
    "train['case'] = np.where((train['Total_amount']== train['judgment_amount']) | (abs(train['Total_amount']-train['judgment_amount'])<1), int(1), int(0))\n",
    "test['case'] = np.where((test['Total_amount']==test['judgment_amount']) | (abs(test['Total_amount']-test['judgment_amount'])<1), int(1), int(0))\n",
    "print('check the cases when judgment_amount is different to sum of fine_amount + admin_fee + state_fee + late_fee + clean_up_cost')\n",
    "print('case is 0 when the amount is different and 1 when is almost equal') \n",
    "print('---------------Train set---------------')\n",
    "print(train.case.value_counts())\n",
    "print('')\n",
    "print(train.groupby(['case','disposition'])['violation_code'].count())\n",
    "print('---------------Test set---------------')\n",
    "print(test.case.value_counts())\n",
    "print('')\n",
    "print(test.groupby(['case','disposition'])['violation_code'].count())\n",
    "print('')\n",
    "print('number of cases when case != judgment_amount and judgment_amount != 0\\n------------Train case------------' )\n",
    "print(train[(train['case']==0) & (train['judgment_amount']!=0)]['violation_code_cat'].count())\n",
    "print('number of cases when case != judgment_amount and judgment_amount != 0\\n------------Test case------------' )\n",
    "print(test[(test['case']==0) & (test['judgment_amount']!=0)]['violation_code_cat'].count())\n",
    "print('')\n",
    "print('I drop judgment amount, case and Total_amount as features')"
   ]
  },
  {
   "cell_type": "code",
   "execution_count": 228,
   "metadata": {},
   "outputs": [],
   "source": [
    "all_delete = ['violation_code','judgment_amount', 'case', 'Total_amount']\n",
    "train.drop(all_delete, axis=1, inplace=True)\n",
    "train = train[train['state']!='BL']\n",
    "test.drop(all_delete, axis=1, inplace=True)\n",
    "train.dropna(subset=['compliance'],inplace=True)"
   ]
  },
  {
   "cell_type": "code",
   "execution_count": 252,
   "metadata": {},
   "outputs": [
    {
     "name": "stdout",
     "output_type": "stream",
     "text": [
      "missing values on train and train2 data\n",
      "agency_name            0\n",
      "state                 84\n",
      "disposition            0\n",
      "fine_amount            0\n",
      "admin_fee              0\n",
      "state_fee              0\n",
      "late_fee               0\n",
      "discount_amount        0\n",
      "clean_up_cost          0\n",
      "compliance             0\n",
      "lat                    2\n",
      "lon                    2\n",
      "violation_code_cat     0\n",
      "dtype: int64\n",
      "\n",
      "False\n",
      "(159879, 107) (159879, 13)\n",
      "\n",
      "missing values in test and test2 data\n",
      "agency_name             0\n",
      "state                 331\n",
      "disposition             0\n",
      "fine_amount             0\n",
      "admin_fee               0\n",
      "state_fee               0\n",
      "late_fee                0\n",
      "discount_amount         0\n",
      "clean_up_cost           0\n",
      "lat                     5\n",
      "lon                     5\n",
      "violation_code_cat      0\n",
      "dtype: int64\n",
      "\n",
      "False\n",
      "(61001, 108) (61001, 12)\n"
     ]
    }
   ],
   "source": [
    "#Strategy - fill na values with IterativeImputer\n",
    "imputer = IterativeImputer()\n",
    "train2 = pd.get_dummies(train)\n",
    "tr_col = train2.columns\n",
    "train2 = imputer.fit_transform(train2)\n",
    "test2 = pd.get_dummies(test)\n",
    "te_col = test2.columns\n",
    "test2= imputer.fit_transform(test2)\n",
    "\n",
    "print('missing values on train and train2 data')\n",
    "print(train.isna().sum())\n",
    "print('')\n",
    "train2 = pd.DataFrame(train2, columns = tr_col)\n",
    "print(train2.isnull().values.any())\n",
    "print(train2.shape, train.shape)\n",
    "print('')\n",
    "print('missing values in test and test2 data')\n",
    "print(test.isna().sum())\n",
    "print('')\n",
    "test2 = pd.DataFrame(test2, columns = te_col)\n",
    "print(test2.isnull().values.any())\n",
    "print(test2.shape, test.shape)"
   ]
  },
  {
   "cell_type": "code",
   "execution_count": 257,
   "metadata": {},
   "outputs": [],
   "source": [
    "y = train2.compliance.astype('int')\n",
    "feat = list(tr_col)\n",
    "feat.remove('compliance')\n",
    "X = train2[feat]\n",
    "Xval = test2"
   ]
  },
  {
   "cell_type": "code",
   "execution_count": 282,
   "metadata": {},
   "outputs": [],
   "source": [
    "#Libraries to test data\n",
    "from sklearn.model_selection import train_test_split\n",
    "from sklearn.metrics import roc_auc_score\n",
    "\n",
    "from sklearn.dummy import DummyClassifier\n",
    "from sklearn.linear_model import LogisticRegression\n",
    "from sklearn.model_selection import GridSearchCV\n",
    "from sklearn.tree import DecisionTreeClassifier\n",
    "from sklearn.ensemble import RandomForestClassifier\n",
    "\n",
    "from sklearn.neural_network import MLPClassifier\n",
    "from sklearn.preprocessing import MinMaxScaler\n",
    "\n",
    "from sklearn.svm import SVC\n"
   ]
  },
  {
   "cell_type": "code",
   "execution_count": 259,
   "metadata": {},
   "outputs": [],
   "source": [
    "#split in two parameters\n",
    "Xtrain, Xtest, ytrain, ytest = train_test_split(X, y, stratify=y)"
   ]
  },
  {
   "cell_type": "code",
   "execution_count": 270,
   "metadata": {},
   "outputs": [
    {
     "name": "stdout",
     "output_type": "stream",
     "text": [
      "Train, test and AUCROC for dummy Classifier\n"
     ]
    },
    {
     "data": {
      "text/plain": [
       "(0.9274616584243051, 0.9274706029522142, 0.5, 0.5)"
      ]
     },
     "execution_count": 270,
     "metadata": {},
     "output_type": "execute_result"
    }
   ],
   "source": [
    "#dummy classifier\n",
    "dummy_clf = DummyClassifier(strategy = 'most_frequent').fit(Xtrain,ytrain)\n",
    "ytrpred = dummy_clf.predict(Xtrain)\n",
    "ytepred = dummy_clf.predict(Xtest)\n",
    "print('Train, test and AUCROC for dummy Classifier')\n",
    "dummy_clf.score(Xtrain,ytrain), dummy_clf.score(Xtest,ytest), roc_auc_score(ytrain, ytrpred), roc_auc_score(ytest, ytepred)"
   ]
  },
  {
   "cell_type": "code",
   "execution_count": 272,
   "metadata": {},
   "outputs": [
    {
     "name": "stdout",
     "output_type": "stream",
     "text": [
      "Train, test and AUCROC for logistic regression\n"
     ]
    },
    {
     "data": {
      "text/plain": [
       "(0.9351091244193513, 0.934676007005254, 0.5628870634607376, 0.5612782521339281)"
      ]
     },
     "execution_count": 272,
     "metadata": {},
     "output_type": "execute_result"
    }
   ],
   "source": [
    "#Logistic regression\n",
    "m1 = LogisticRegression(max_iter = 10000).fit(Xtrain,ytrain)\n",
    "ytrpred = m1.predict(Xtrain)\n",
    "ytepred = m1.predict(Xtest)\n",
    "print('Train, test and AUCROC for logistic regression')\n",
    "m1.score(Xtrain,ytrain), m1.score(Xtest,ytest), roc_auc_score(ytrain, ytrpred), roc_auc_score(ytest, ytepred)"
   ]
  },
  {
   "cell_type": "code",
   "execution_count": 273,
   "metadata": {},
   "outputs": [
    {
     "name": "stdout",
     "output_type": "stream",
     "text": [
      "Grid best parameter:  {'max_depth': 10, 'max_features': 30}\n",
      "Train, test and AUCROC for Decision tree\n"
     ]
    },
    {
     "data": {
      "text/plain": [
       "(0.8156115913463147,\n",
       " 0.7950767287135881,\n",
       " 0.6331706717252361,\n",
       " 0.6218510997267869)"
      ]
     },
     "execution_count": 273,
     "metadata": {},
     "output_type": "execute_result"
    }
   ],
   "source": [
    "#decision trees\n",
    "grid_values = {'max_features': [5,10,15,20,25,30], 'max_depth': [4,6,8,10,15]} \n",
    "dtc = DecisionTreeClassifier()\n",
    "grid_dtc = GridSearchCV(dtc, param_grid = grid_values, scoring='roc_auc')\n",
    "grid_dtc.fit(Xtrain, ytrain)\n",
    "print('Grid best parameter: ', grid_dtc.best_params_)\n",
    "ytrpred = grid_dtc.predict(Xtrain)\n",
    "ytepred = grid_dtc.predict(Xtest)\n",
    "print('Train, test and AUCROC for Decision tree')\n",
    "grid_dtc.score(Xtrain,ytrain), grid_dtc.score(Xtest,ytest), roc_auc_score(ytrain, ytrpred), roc_auc_score(ytest, ytepred)"
   ]
  },
  {
   "cell_type": "code",
   "execution_count": 280,
   "metadata": {},
   "outputs": [
    {
     "name": "stdout",
     "output_type": "stream",
     "text": [
      "Grid best parameter:  {'max_depth': 15, 'max_features': 15, 'n_estimators': 10}\n",
      "Train, test and AUCROC for random forests\n"
     ]
    },
    {
     "data": {
      "text/plain": [
       "(0.8434183124073688,\n",
       " 0.8106233017575729,\n",
       " 0.6356662660222473,\n",
       " 0.6212825953467866)"
      ]
     },
     "execution_count": 280,
     "metadata": {},
     "output_type": "execute_result"
    }
   ],
   "source": [
    "#random forests\n",
    "#n_estimators, number of bootstrap samples\n",
    "#max_depth, maximum depth of the tree\n",
    "model = RandomForestClassifier(n_jobs=2, random_state=0)\n",
    "grid_values = {'n_estimators':[5,7,8,10], 'max_depth':[5,8,10,15], 'max_features':[10,15,20,25]}\n",
    "grid_model = GridSearchCV(model, param_grid=grid_values, scoring=\"roc_auc\")\n",
    "grid_model.fit(Xtrain, ytrain)\n",
    "print('Grid best parameter: ', grid_model.best_params_)\n",
    "ytrpred = grid_model.predict(Xtrain)\n",
    "ytepred = grid_model.predict(Xtest)\n",
    "print('Train, test and AUCROC for random forests')\n",
    "grid_model.score(Xtrain,ytrain), grid_model.score(Xtest,ytest), roc_auc_score(ytrain, ytrpred), roc_auc_score(ytest, ytepred)"
   ]
  },
  {
   "cell_type": "code",
   "execution_count": 285,
   "metadata": {},
   "outputs": [
    {
     "name": "stdout",
     "output_type": "stream",
     "text": [
      "Grid best parameter:  {'activation': 'logistic', 'alpha': 1}\n",
      "Train, test and AUCROC for neural networks\n"
     ]
    },
    {
     "data": {
      "text/plain": [
       "(0.8217830330454742,\n",
       " 0.7980698338119978,\n",
       " 0.6252118008246755,\n",
       " 0.6163290892468922)"
      ]
     },
     "execution_count": 285,
     "metadata": {},
     "output_type": "execute_result"
    }
   ],
   "source": [
    "#neural network\n",
    "scaler = MinMaxScaler()\n",
    "Xtrain_scaled = scaler.fit_transform(Xtrain)\n",
    "Xtest_scaled = scaler.transform(Xtest)\n",
    "\n",
    "nn = MLPClassifier(hidden_layer_sizes = [20,20], random_state = 0, solver='lbfgs', max_iter=10000)\n",
    "grid_values = {'activation':['relu','logistic'], 'alpha':[0.01,1]}\n",
    "grid_nn = GridSearchCV(nn, param_grid=grid_values, scoring=\"roc_auc\")\n",
    "grid_nn.fit(Xtrain_scaled, ytrain)\n",
    "print('Grid best parameter: ', grid_nn.best_params_)\n",
    "ytrpred = grid_nn.predict(Xtrain_scaled)\n",
    "ytepred = grid_nn.predict(Xtest_scaled)\n",
    "print('Train, test and AUCROC for neural networks')\n",
    "grid_nn.score(Xtrain_scaled,ytrain), grid_nn.score(Xtest_scaled,ytest), roc_auc_score(ytrain, ytrpred), roc_auc_score(ytest, ytepred)"
   ]
  },
  {
   "cell_type": "code",
   "execution_count": 6,
   "metadata": {},
   "outputs": [],
   "source": [
    "#impossible to compute, takes a long time.\n",
    "\n",
    "#grid_values = {'C': [0.1, 1], 'gamma': [0.1, 1.0]}, 'class_weight':[{1:10},{1:20},{1:50}]}\n",
    "#scaler = StandardScaler()\n",
    "#Xtrain_scaled = scaler.fit_transform(Xtrain)\n",
    "#Xtest_scaled = scaler.transform(Xtest)\n",
    "\n",
    "#svm = SVC(kernel='rbf', random_state =0)\n",
    "#grid_svm_acc = GridSearchCV(svm, param_grid = grid_values, scoring = 'roc_auc')\n",
    "#grid_svm_acc.fit(Xtrain_scaled, ytrain)\n",
    "#y_decision_fn_scores_acc = grid_svm_acc.decision_function(Xtest_scaled) \n",
    "\n",
    "#print('Grid best parameter (max. accuracy): ', grid_svm_acc.best_params_)\n",
    "#print('Grid best score (accuracy): ', grid_svm_acc.best_score_)\n",
    "\n",
    "##Best SVM model \n",
    "##svm = SVC(random_state =0).fit(Xtrain_scaled,ytrain)\n",
    "##ypred = svm.predict(Xtest_scaled)\n",
    "##svm.score(Xtest_scaled,ytest), svm.score(Xtrain_scaled,ytrain), roc_auc_score(ytest, ypred)"
   ]
  },
  {
   "cell_type": "code",
   "execution_count": 286,
   "metadata": {},
   "outputs": [],
   "source": [
    "#test2 = pd.get_dummies(X_test)\n",
    "#X_predict = ml.predict_proba(test2)"
   ]
  },
  {
   "cell_type": "code",
   "execution_count": null,
   "metadata": {},
   "outputs": [],
   "source": [
    "import pandas as pd\n",
    "import numpy as np\n",
    "\n",
    "def blight_model():\n",
    "    \n",
    "    # Your code here\n",
    "    \n",
    "    return # Your answer here"
   ]
  }
 ],
 "metadata": {
  "coursera": {
   "course_slug": "python-machine-learning",
   "graded_item_id": "nNS8l",
   "launcher_item_id": "yWWk7",
   "part_id": "w8BSS"
  },
  "kernelspec": {
   "display_name": "Python 3",
   "language": "python",
   "name": "python3"
  },
  "language_info": {
   "codemirror_mode": {
    "name": "ipython",
    "version": 3
   },
   "file_extension": ".py",
   "mimetype": "text/x-python",
   "name": "python",
   "nbconvert_exporter": "python",
   "pygments_lexer": "ipython3",
   "version": "3.7.6"
  }
 },
 "nbformat": 4,
 "nbformat_minor": 2
}
